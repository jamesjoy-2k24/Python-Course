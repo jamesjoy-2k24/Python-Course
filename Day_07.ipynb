{
  "nbformat": 4,
  "nbformat_minor": 0,
  "metadata": {
    "colab": {
      "provenance": [],
      "authorship_tag": "ABX9TyMDMkyx2xGQBXP117LG7J0T",
      "include_colab_link": true
    },
    "kernelspec": {
      "name": "python3",
      "display_name": "Python 3"
    },
    "language_info": {
      "name": "python"
    }
  },
  "cells": [
    {
      "cell_type": "markdown",
      "metadata": {
        "id": "view-in-github",
        "colab_type": "text"
      },
      "source": [
        "<a href=\"https://colab.research.google.com/github/jamesjoy-2k24/Python-Course/blob/main/Day_07.ipynb\" target=\"_parent\"><img src=\"https://colab.research.google.com/assets/colab-badge.svg\" alt=\"Open In Colab\"/></a>"
      ]
    },
    {
      "cell_type": "code",
      "execution_count": null,
      "metadata": {
        "id": "eGGu-fwrVzR5"
      },
      "outputs": [],
      "source": [
        "Advance Python Topics\n",
        "\n",
        "01. Python Decorators\n",
        "02. Python Itrator\n",
        "03. Python Regex\n",
        "04. Python Closure\n",
        "05. Python Generator\n",
        "06. Python Property\n",
        "07. Python Date & Time"
      ]
    },
    {
      "cell_type": "code",
      "source": [
        "def welcome():\n",
        "  print('Hi!')\n",
        "\n",
        "welcome()"
      ],
      "metadata": {
        "colab": {
          "base_uri": "https://localhost:8080/"
        },
        "id": "iglFU7RdW7K2",
        "outputId": "7c640a76-485a-4f9d-c53f-162a86dec1e6"
      },
      "execution_count": 1,
      "outputs": [
        {
          "output_type": "stream",
          "name": "stdout",
          "text": [
            "Hi!\n"
          ]
        }
      ]
    },
    {
      "cell_type": "code",
      "source": [
        "def func1():\n",
        "  print('Hi')\n",
        "func2 = func1\n",
        "\n",
        "func2() # Copies & Stores"
      ],
      "metadata": {
        "colab": {
          "base_uri": "https://localhost:8080/"
        },
        "id": "n_-QaFLCXQ0N",
        "outputId": "bfff1129-7f5c-4422-ff12-1211c5fd69cd"
      },
      "execution_count": 3,
      "outputs": [
        {
          "output_type": "stream",
          "name": "stdout",
          "text": [
            "Hello\n"
          ]
        }
      ]
    },
    {
      "cell_type": "code",
      "source": [
        "def func1():\n",
        "  print('Hi')\n",
        "func2 = func1\n",
        "del func1 # del keyword\n",
        "\n",
        "func2()"
      ],
      "metadata": {
        "colab": {
          "base_uri": "https://localhost:8080/"
        },
        "id": "1HMYAqJrXjMX",
        "outputId": "5d1f4bed-edf0-4c2b-8b02-ebf6d62a37d4"
      },
      "execution_count": 4,
      "outputs": [
        {
          "output_type": "stream",
          "name": "stdout",
          "text": [
            "Hi\n"
          ]
        }
      ]
    },
    {
      "cell_type": "code",
      "source": [
        "def funcreturner(num):\n",
        "  if num==0:\n",
        "    return print\n",
        "  if num==1:\n",
        "    return int\n",
        "\n",
        "a = funcreturner(1)\n",
        "print(a)"
      ],
      "metadata": {
        "colab": {
          "base_uri": "https://localhost:8080/"
        },
        "id": "f6Y8z1k9Xu_5",
        "outputId": "b7b2b32b-b866-48de-e473-db5bdf2fd7b2"
      },
      "execution_count": 7,
      "outputs": [
        {
          "output_type": "stream",
          "name": "stdout",
          "text": [
            "<class 'int'>\n"
          ]
        }
      ]
    },
    {
      "cell_type": "code",
      "source": [
        "# Function Taken as argument and can work inside the function\n",
        "def funcexecuter(func):\n",
        "  func('This is print statement')\n",
        "\n",
        "funcexecuter(print)"
      ],
      "metadata": {
        "colab": {
          "base_uri": "https://localhost:8080/"
        },
        "id": "03xEyMQtYWSV",
        "outputId": "44224fee-69ca-4a14-8248-966b7c62d628"
      },
      "execution_count": 8,
      "outputs": [
        {
          "output_type": "stream",
          "name": "stdout",
          "text": [
            "This is print statement\n"
          ]
        }
      ]
    },
    {
      "cell_type": "code",
      "source": [
        "# Nested Function\n",
        "def outer():\n",
        "  def inner():\n",
        "    print('I came from inner statement')\n",
        "  inner()\n",
        "outer()"
      ],
      "metadata": {
        "colab": {
          "base_uri": "https://localhost:8080/"
        },
        "id": "ZhVQrsq6YrOM",
        "outputId": "e0682154-fb50-4582-dcd1-9851de1c87aa"
      },
      "execution_count": 10,
      "outputs": [
        {
          "output_type": "stream",
          "name": "stdout",
          "text": [
            "I came from inner statement\n"
          ]
        }
      ]
    },
    {
      "cell_type": "code",
      "source": [
        "# Storing outer function in variable and print\n",
        "def outer():\n",
        "  hello = 'Hi Welcome'\n",
        "  def inner():\n",
        "    print(hello)\n",
        "  return inner\n",
        "\n",
        "a = outer()\n",
        "a()"
      ],
      "metadata": {
        "colab": {
          "base_uri": "https://localhost:8080/"
        },
        "id": "BjqKu7IhZ7qh",
        "outputId": "3843aa5c-cb7b-414a-e8c0-2edccd5c355e"
      },
      "execution_count": 12,
      "outputs": [
        {
          "output_type": "stream",
          "name": "stdout",
          "text": [
            "Hi Welcome\n"
          ]
        }
      ]
    },
    {
      "cell_type": "code",
      "source": [
        "def outer(message):\n",
        "  def inner():\n",
        "    print(\"Message : \", message)\n",
        "  return inner\n",
        "\n",
        "hi = outer('Hello')\n",
        "hi()\n",
        "\n",
        "hi2 = outer('Bye')\n",
        "hi2()"
      ],
      "metadata": {
        "colab": {
          "base_uri": "https://localhost:8080/"
        },
        "id": "DjOJOUmaawdU",
        "outputId": "f3ca4281-952b-4ec6-8f4d-5dc94e2d127e"
      },
      "execution_count": 14,
      "outputs": [
        {
          "output_type": "stream",
          "name": "stdout",
          "text": [
            "Message :  Hello\n",
            "Message :  Bye\n"
          ]
        }
      ]
    },
    {
      "cell_type": "code",
      "source": [
        "def dec1(func):\n",
        "  def execution():\n",
        "    print('Executing')\n",
        "    func()\n",
        "    print('Exected')\n",
        "  return execution\n",
        "\n",
        "@dec1\n",
        "def world():\n",
        "  print(\"Hello\")\n",
        "world()\n",
        "\n",
        "# a = dec1(world)\n",
        "# a()"
      ],
      "metadata": {
        "colab": {
          "base_uri": "https://localhost:8080/"
        },
        "id": "jeMJeYYrbVb0",
        "outputId": "be37eff6-2e30-4599-b3ba-3988759c0d78"
      },
      "execution_count": 22,
      "outputs": [
        {
          "output_type": "stream",
          "name": "stdout",
          "text": [
            "Executing\n",
            "Hello\n",
            "Exected\n"
          ]
        }
      ]
    },
    {
      "cell_type": "code",
      "source": [
        "class Circle():\n",
        "  def __init__(self, radius):\n",
        "    self.radius = radius\n",
        "\n",
        "  def get_radius(self):\n",
        "    return self.radius\n",
        "\n",
        "  def set_radius(set, value):\n",
        "    if value <= 0:\n",
        "      raise ValueError(\"Radius must be positive only\")\n",
        "\n",
        "      self.radius = value\n",
        "\n",
        "  def get_area(self):\n",
        "    return 3.14 * self.radius ** 2\n",
        "\n",
        "result = Circle(5)\n",
        "print(\"Radius : \", result.get_radius())\n",
        "print(\"Area : \", result.get_area())\n",
        "\n",
        "result.set_radius(10)\n",
        "print(\"Radius : \", result.get_radius())\n",
        "print(\"Area : \", result.get_area())"
      ],
      "metadata": {
        "colab": {
          "base_uri": "https://localhost:8080/"
        },
        "id": "Y6urJW30fF1n",
        "outputId": "4251b178-b37e-4765-9709-646085e5eb12"
      },
      "execution_count": 30,
      "outputs": [
        {
          "output_type": "stream",
          "name": "stdout",
          "text": [
            "Radius :  5\n",
            "Area :  78.5\n",
            "Radius :  5\n",
            "Area :  78.5\n"
          ]
        }
      ]
    },
    {
      "cell_type": "code",
      "source": [
        "class Circle():\n",
        "  def __init__(self, radius):\n",
        "    self.radius = radius\n",
        "\n",
        "  @property # for getting method\n",
        "  def radius(self):\n",
        "    return self.radius\n",
        "\n",
        "  @radius.setter # Setter method\n",
        "  def radius(self, value):\n",
        "\n",
        "    if value <= 0:\n",
        "      raise ValueError(\"Radius must be positive only\")\n",
        "\n",
        "      self.radius = value\n",
        "  @property\n",
        "  def area(self):\n",
        "    return 3.14 * self.radius ** 2\n",
        "\n",
        "radius = float(input(\"Enter Radius : \"))\n",
        "circle = Circle(radius)\n",
        "print(\"Radius : \", circle.radius)\n",
        "print(\"Area : \", circle.area)\n",
        "\n",
        "new_radius = float(input(\"Enter New Radius : \"))\n",
        "circle.radius = new_radius\n",
        "print(\"Radius : \", circle.radius)\n",
        "print(\"Area : \", circle.area)\n",
        "\n",
        "# Try except\n",
        "# if, else method\n",
        "# input from user\n",
        "# getter & setter method\n",
        "# encapsulation\n",
        "# protect method\n",
        "# python property"
      ],
      "metadata": {
        "colab": {
          "base_uri": "https://localhost:8080/",
          "height": 530
        },
        "id": "aEcsTDz5k4we",
        "outputId": "013ba3af-0e03-4a4c-eeda-3d8cfe9b5a95"
      },
      "execution_count": 41,
      "outputs": [
        {
          "name": "stdout",
          "output_type": "stream",
          "text": [
            "Enter Radius : 12\n"
          ]
        },
        {
          "output_type": "error",
          "ename": "RecursionError",
          "evalue": "maximum recursion depth exceeded",
          "traceback": [
            "\u001b[0;31m---------------------------------------------------------------------------\u001b[0m",
            "\u001b[0;31mRecursionError\u001b[0m                            Traceback (most recent call last)",
            "\u001b[0;32m<ipython-input-41-1f4d116281a4>\u001b[0m in \u001b[0;36m<cell line: 22>\u001b[0;34m()\u001b[0m\n\u001b[1;32m     20\u001b[0m \u001b[0mradius\u001b[0m \u001b[0;34m=\u001b[0m \u001b[0mfloat\u001b[0m\u001b[0;34m(\u001b[0m\u001b[0minput\u001b[0m\u001b[0;34m(\u001b[0m\u001b[0;34m\"Enter Radius : \"\u001b[0m\u001b[0;34m)\u001b[0m\u001b[0;34m)\u001b[0m\u001b[0;34m\u001b[0m\u001b[0;34m\u001b[0m\u001b[0m\n\u001b[1;32m     21\u001b[0m \u001b[0mcircle\u001b[0m \u001b[0;34m=\u001b[0m \u001b[0mCircle\u001b[0m\u001b[0;34m(\u001b[0m\u001b[0mradius\u001b[0m\u001b[0;34m)\u001b[0m\u001b[0;34m\u001b[0m\u001b[0;34m\u001b[0m\u001b[0m\n\u001b[0;32m---> 22\u001b[0;31m \u001b[0mprint\u001b[0m\u001b[0;34m(\u001b[0m\u001b[0;34m\"Radius : \"\u001b[0m\u001b[0;34m,\u001b[0m \u001b[0mcircle\u001b[0m\u001b[0;34m.\u001b[0m\u001b[0mradius\u001b[0m\u001b[0;34m)\u001b[0m\u001b[0;34m\u001b[0m\u001b[0;34m\u001b[0m\u001b[0m\n\u001b[0m\u001b[1;32m     23\u001b[0m \u001b[0mprint\u001b[0m\u001b[0;34m(\u001b[0m\u001b[0;34m\"Area : \"\u001b[0m\u001b[0;34m,\u001b[0m \u001b[0mcircle\u001b[0m\u001b[0;34m.\u001b[0m\u001b[0marea\u001b[0m\u001b[0;34m)\u001b[0m\u001b[0;34m\u001b[0m\u001b[0;34m\u001b[0m\u001b[0m\n\u001b[1;32m     24\u001b[0m \u001b[0;34m\u001b[0m\u001b[0m\n",
            "\u001b[0;32m<ipython-input-41-1f4d116281a4>\u001b[0m in \u001b[0;36mradius\u001b[0;34m(self)\u001b[0m\n\u001b[1;32m      5\u001b[0m   \u001b[0;34m@\u001b[0m\u001b[0mproperty\u001b[0m \u001b[0;31m# for getting method\u001b[0m\u001b[0;34m\u001b[0m\u001b[0;34m\u001b[0m\u001b[0m\n\u001b[1;32m      6\u001b[0m   \u001b[0;32mdef\u001b[0m \u001b[0mradius\u001b[0m\u001b[0;34m(\u001b[0m\u001b[0mself\u001b[0m\u001b[0;34m)\u001b[0m\u001b[0;34m:\u001b[0m\u001b[0;34m\u001b[0m\u001b[0;34m\u001b[0m\u001b[0m\n\u001b[0;32m----> 7\u001b[0;31m     \u001b[0;32mreturn\u001b[0m \u001b[0mself\u001b[0m\u001b[0;34m.\u001b[0m\u001b[0mradius\u001b[0m\u001b[0;34m\u001b[0m\u001b[0;34m\u001b[0m\u001b[0m\n\u001b[0m\u001b[1;32m      8\u001b[0m \u001b[0;34m\u001b[0m\u001b[0m\n\u001b[1;32m      9\u001b[0m   \u001b[0;34m@\u001b[0m\u001b[0mradius\u001b[0m\u001b[0;34m.\u001b[0m\u001b[0msetter\u001b[0m \u001b[0;31m# Setter method\u001b[0m\u001b[0;34m\u001b[0m\u001b[0;34m\u001b[0m\u001b[0m\n",
            "... last 1 frames repeated, from the frame below ...\n",
            "\u001b[0;32m<ipython-input-41-1f4d116281a4>\u001b[0m in \u001b[0;36mradius\u001b[0;34m(self)\u001b[0m\n\u001b[1;32m      5\u001b[0m   \u001b[0;34m@\u001b[0m\u001b[0mproperty\u001b[0m \u001b[0;31m# for getting method\u001b[0m\u001b[0;34m\u001b[0m\u001b[0;34m\u001b[0m\u001b[0m\n\u001b[1;32m      6\u001b[0m   \u001b[0;32mdef\u001b[0m \u001b[0mradius\u001b[0m\u001b[0;34m(\u001b[0m\u001b[0mself\u001b[0m\u001b[0;34m)\u001b[0m\u001b[0;34m:\u001b[0m\u001b[0;34m\u001b[0m\u001b[0;34m\u001b[0m\u001b[0m\n\u001b[0;32m----> 7\u001b[0;31m     \u001b[0;32mreturn\u001b[0m \u001b[0mself\u001b[0m\u001b[0;34m.\u001b[0m\u001b[0mradius\u001b[0m\u001b[0;34m\u001b[0m\u001b[0;34m\u001b[0m\u001b[0m\n\u001b[0m\u001b[1;32m      8\u001b[0m \u001b[0;34m\u001b[0m\u001b[0m\n\u001b[1;32m      9\u001b[0m   \u001b[0;34m@\u001b[0m\u001b[0mradius\u001b[0m\u001b[0;34m.\u001b[0m\u001b[0msetter\u001b[0m \u001b[0;31m# Setter method\u001b[0m\u001b[0;34m\u001b[0m\u001b[0;34m\u001b[0m\u001b[0m\n",
            "\u001b[0;31mRecursionError\u001b[0m: maximum recursion depth exceeded"
          ]
        }
      ]
    },
    {
      "cell_type": "code",
      "source": [],
      "metadata": {
        "id": "RkXrfF4DorB1"
      },
      "execution_count": null,
      "outputs": []
    }
  ]
}