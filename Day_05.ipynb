{
  "nbformat": 4,
  "nbformat_minor": 0,
  "metadata": {
    "colab": {
      "provenance": [],
      "authorship_tag": "ABX9TyOUe6T9ssO996WzSqsDFtSc",
      "include_colab_link": true
    },
    "kernelspec": {
      "name": "python3",
      "display_name": "Python 3"
    },
    "language_info": {
      "name": "python"
    }
  },
  "cells": [
    {
      "cell_type": "markdown",
      "metadata": {
        "id": "view-in-github",
        "colab_type": "text"
      },
      "source": [
        "<a href=\"https://colab.research.google.com/github/jamesjoy-2k24/Python-Course/blob/main/Day_05.ipynb\" target=\"_parent\"><img src=\"https://colab.research.google.com/assets/colab-badge.svg\" alt=\"Open In Colab\"/></a>"
      ]
    },
    {
      "cell_type": "code",
      "execution_count": null,
      "metadata": {
        "id": "_8QTuuUcm9SM"
      },
      "outputs": [],
      "source": [
        "# Book Store - Class object"
      ]
    },
    {
      "cell_type": "code",
      "source": [
        "class Book:\n",
        "  def __init__(self, refer_no, title, author, price):\n",
        "    self.refer_no = refer_no\n",
        "    self.title = title\n",
        "    self.author = author\n",
        "    self.price = price\n",
        "\n",
        "  def __repr__(self):\n",
        "    return f\"Book : {self.refer_no}, Title : {self.title}, Autho : {self.author}, Price : {self.price}\"\n",
        "\n",
        "\n",
        "book1 = Book(111, 'Black Magic', \"J1\", 100)\n",
        "book2 = Book(122, 'Red Magic', \"J2\", 200)\n",
        "book3 = Book(133, 'Nothing Magic', \"J3\", 300)\n",
        "\n",
        "print(book1)\n",
        "print(book2)\n",
        "print(book3)"
      ],
      "metadata": {
        "colab": {
          "base_uri": "https://localhost:8080/"
        },
        "id": "1ZdVEVg8nJzF",
        "outputId": "e7d6a39d-a60c-4f26-beb2-6ae45adc1ada"
      },
      "execution_count": 1,
      "outputs": [
        {
          "output_type": "stream",
          "name": "stdout",
          "text": [
            "Book : 111, Title : Black Magic, Autho : J1, Price : 100\n",
            "Book : 122, Title : Red Magic, Autho : J2, Price : 200\n",
            "Book : 133, Title : Nothing Magic, Autho : J3, Price : 300\n"
          ]
        }
      ]
    },
    {
      "cell_type": "markdown",
      "source": [
        "## POLYMORPHISM"
      ],
      "metadata": {
        "id": "6RjqgiYfoteo"
      }
    },
    {
      "cell_type": "code",
      "source": [
        "class Dog:\n",
        "  def __init__(self, name):\n",
        "    self.name = name\n",
        "\n",
        "  def move(self):\n",
        "    print(f'{self.name} Runs !')\n",
        "\n",
        "\n",
        "class Fish:\n",
        "  def __init__(self, name):\n",
        "    self.name = name\n",
        "\n",
        "  def move(self):\n",
        "    print(f'{self.name} Swim !')\n",
        "\n",
        "\n",
        "class Bird:\n",
        "  def __init__(self, name):\n",
        "    self.name = name\n",
        "\n",
        "  def move(self):\n",
        "    print(f'{self.name} Fly !')\n",
        "\n",
        "\n",
        "dog1 = Dog('Alex')\n",
        "fish1 = Fish('Nemo')\n",
        "bird1 = Bird('Rio')\n",
        "\n",
        "for i in (dog1, fish1, bird1):\n",
        "  i.move()"
      ],
      "metadata": {
        "colab": {
          "base_uri": "https://localhost:8080/"
        },
        "id": "JiNaCKQCogVp",
        "outputId": "b9f0f51a-261e-4109-8f9e-d75f47d0f7a6"
      },
      "execution_count": 6,
      "outputs": [
        {
          "output_type": "stream",
          "name": "stdout",
          "text": [
            "Alex Runs !\n",
            "Nemo Swim !\n",
            "Rio Fly !\n"
          ]
        }
      ]
    },
    {
      "cell_type": "code",
      "source": [
        "# Inheritance over Polymorphism\n",
        "\n",
        "class Vehicle:\n",
        "  def __init__(self, brand, model):\n",
        "    self.brand = brand\n",
        "    self.model = model\n",
        "\n",
        "  def move(self):\n",
        "    print('Move')\n",
        "\n",
        "class Car(Vehicle):\n",
        "  pass\n",
        "\n",
        "class Flight(Vehicle):\n",
        "  def move(self):\n",
        "    print('Fly')\n",
        "\n",
        "class Boat(Vehicle):\n",
        "  def move(self):\n",
        "    print('Swim')\n",
        "\n",
        "car1 = Car('Toyota', 'Supra MK4')\n",
        "flight1 = Flight('Indigo', 'A120')\n",
        "boat1 = Boat('Titanic','AC30')\n",
        "\n",
        "for i in (car1, flight1, boat1):\n",
        "  print(i.brand, i.model)\n",
        "  i.move()"
      ],
      "metadata": {
        "colab": {
          "base_uri": "https://localhost:8080/"
        },
        "id": "WZr2nCBEqckK",
        "outputId": "04792498-4f40-480a-9ea1-c135d6087777"
      },
      "execution_count": 13,
      "outputs": [
        {
          "output_type": "stream",
          "name": "stdout",
          "text": [
            "Toyota Supra MK4\n",
            "Move\n",
            "Indigo A120\n",
            "Fly\n",
            "Titanic AC30\n",
            "Swim\n"
          ]
        }
      ]
    },
    {
      "cell_type": "markdown",
      "source": [
        "## Encapsulation"
      ],
      "metadata": {
        "id": "k342TVjCwS_4"
      }
    },
    {
      "cell_type": "code",
      "source": [
        "class Product:\n",
        "  def __init__(self, name, price):\n",
        "    self.name = name    # Public Attribute\n",
        "    self._price = price # Encapsulated Attribute / Private\n",
        "\n",
        "\n",
        "  def get_price(self):\n",
        "    return self._price  # Getter method to access the encapsulated atribute\n",
        "\n",
        "  def set_price(self):\n",
        "    if price >= 0 :\n",
        "      self._price = price\n",
        "    else:\n",
        "      print(\"Price cannot be negative\")  # To modify the private attribute\n",
        "\n",
        "\n",
        "product = Product('Samsung', 300)           # Instantiate\n",
        "print(\"product Name : \", product.name)      # Public attribute\n",
        "print('Product Price :', product.get_price) # Private attribute\n",
        "\n",
        "product.set_price(600)\n",
        "print('Updated Price : ', product.get_price())"
      ],
      "metadata": {
        "id": "7qvdFnlbskZJ"
      },
      "execution_count": null,
      "outputs": []
    },
    {
      "cell_type": "code",
      "source": [
        "# Book Store\n",
        "\n",
        "class Book:\n",
        "  def __init__(self, title, quantity, author, price):\n",
        "    self.title = title\n",
        "    self.quantity = quantity\n",
        "    self.author = author\n",
        "    self._price = price # Private attribute\n",
        "    self._discount = None\n",
        "\n",
        "  def set_discount(self, discount):\n",
        "    self.discount = discount\n",
        "\n",
        "  def get_price(self):\n",
        "    if self.discount:\n",
        "      return self.__price * (1-self.discount)\n",
        "    return self.__price\n",
        "\n",
        "\n",
        "  def __repr__(self):\n",
        "    return f\"Book : {self.title}, Quantity : {self.quantity}, Author : {self.author}, Price : {self.get_price()}\"\n",
        "\n",
        "book1 = Book('Python', 10, \"James\", 500 )\n",
        "\n",
        "single_book = ('abc', 10, 'Joy', 100)\n",
        "bulk_book = ('aaa', 10, 'Joy', 300)\n",
        "bulk_book.set_discount(0.20)\n",
        "\n",
        "print(single_book.get_price)\n",
        "print(bulk_book.get_price)\n",
        "print(single_book)\n",
        "print(single_book)\n",
        "\n",
        "# print(book1.title)\n",
        "# print(book1.quantity)\n",
        "# print(book1.author)\n",
        "# print(book1.price)"
      ],
      "metadata": {
        "colab": {
          "base_uri": "https://localhost:8080/",
          "height": 211
        },
        "id": "6w7-2Y4ry50Z",
        "outputId": "82af118a-c85d-40b3-c7b8-228bb163a91b"
      },
      "execution_count": 29,
      "outputs": [
        {
          "output_type": "error",
          "ename": "AttributeError",
          "evalue": "'tuple' object has no attribute 'set_discount'",
          "traceback": [
            "\u001b[0;31m---------------------------------------------------------------------------\u001b[0m",
            "\u001b[0;31mAttributeError\u001b[0m                            Traceback (most recent call last)",
            "\u001b[0;32m<ipython-input-29-f88886751775>\u001b[0m in \u001b[0;36m<cell line: 27>\u001b[0;34m()\u001b[0m\n\u001b[1;32m     25\u001b[0m \u001b[0msingle_book\u001b[0m \u001b[0;34m=\u001b[0m \u001b[0;34m(\u001b[0m\u001b[0;34m'abc'\u001b[0m\u001b[0;34m,\u001b[0m \u001b[0;36m10\u001b[0m\u001b[0;34m,\u001b[0m \u001b[0;34m'Joy'\u001b[0m\u001b[0;34m,\u001b[0m \u001b[0;36m100\u001b[0m\u001b[0;34m)\u001b[0m\u001b[0;34m\u001b[0m\u001b[0;34m\u001b[0m\u001b[0m\n\u001b[1;32m     26\u001b[0m \u001b[0mbulk_book\u001b[0m \u001b[0;34m=\u001b[0m \u001b[0;34m(\u001b[0m\u001b[0;34m'aaa'\u001b[0m\u001b[0;34m,\u001b[0m \u001b[0;36m10\u001b[0m\u001b[0;34m,\u001b[0m \u001b[0;34m'Joy'\u001b[0m\u001b[0;34m,\u001b[0m \u001b[0;36m300\u001b[0m\u001b[0;34m)\u001b[0m\u001b[0;34m\u001b[0m\u001b[0;34m\u001b[0m\u001b[0m\n\u001b[0;32m---> 27\u001b[0;31m \u001b[0mbulk_book\u001b[0m\u001b[0;34m.\u001b[0m\u001b[0mset_discount\u001b[0m\u001b[0;34m(\u001b[0m\u001b[0;36m0.20\u001b[0m\u001b[0;34m)\u001b[0m\u001b[0;34m\u001b[0m\u001b[0;34m\u001b[0m\u001b[0m\n\u001b[0m\u001b[1;32m     28\u001b[0m \u001b[0;34m\u001b[0m\u001b[0m\n\u001b[1;32m     29\u001b[0m \u001b[0mprint\u001b[0m\u001b[0;34m(\u001b[0m\u001b[0msingle_book\u001b[0m\u001b[0;34m.\u001b[0m\u001b[0mget_price\u001b[0m\u001b[0;34m)\u001b[0m\u001b[0;34m\u001b[0m\u001b[0;34m\u001b[0m\u001b[0m\n",
            "\u001b[0;31mAttributeError\u001b[0m: 'tuple' object has no attribute 'set_discount'"
          ]
        }
      ]
    },
    {
      "cell_type": "code",
      "source": [],
      "metadata": {
        "id": "3QM4uSj512iR"
      },
      "execution_count": null,
      "outputs": []
    }
  ]
}