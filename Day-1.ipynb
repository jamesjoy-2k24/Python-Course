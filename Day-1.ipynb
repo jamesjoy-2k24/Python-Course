{
  "nbformat": 4,
  "nbformat_minor": 0,
  "metadata": {
    "colab": {
      "provenance": [],
      "authorship_tag": "ABX9TyONqQOQ+tMF+DAXXpcoCi4K",
      "include_colab_link": true
    },
    "kernelspec": {
      "name": "python3",
      "display_name": "Python 3"
    },
    "language_info": {
      "name": "python"
    }
  },
  "cells": [
    {
      "cell_type": "markdown",
      "metadata": {
        "id": "view-in-github",
        "colab_type": "text"
      },
      "source": [
        "<a href=\"https://colab.research.google.com/github/jamesjoy-2k24/Python-Course/blob/main/Day-1.ipynb\" target=\"_parent\"><img src=\"https://colab.research.google.com/assets/colab-badge.svg\" alt=\"Open In Colab\"/></a>"
      ]
    },
    {
      "cell_type": "code",
      "execution_count": 1,
      "metadata": {
        "colab": {
          "base_uri": "https://localhost:8080/"
        },
        "id": "1gx4A-yElOK_",
        "outputId": "b975dd0b-6ef6-4796-e1b0-fa41ac19f2aa"
      },
      "outputs": [
        {
          "output_type": "stream",
          "name": "stdout",
          "text": [
            "Hello\n"
          ]
        }
      ],
      "source": [
        "print(\"Hello\")"
      ]
    },
    {
      "cell_type": "code",
      "source": [
        "if 20>5:\n",
        "  print('Yes it is correct')"
      ],
      "metadata": {
        "colab": {
          "base_uri": "https://localhost:8080/"
        },
        "id": "Qtd7baRnma0K",
        "outputId": "4b4cfd47-cd15-4a3e-b64b-4bb5753efd73"
      },
      "execution_count": 3,
      "outputs": [
        {
          "output_type": "stream",
          "name": "stdout",
          "text": [
            "Yes it is correct\n"
          ]
        }
      ]
    },
    {
      "cell_type": "code",
      "source": [
        "a = 8\n",
        "b = \"Hello\"\n",
        "\n",
        "print(b, a)"
      ],
      "metadata": {
        "colab": {
          "base_uri": "https://localhost:8080/"
        },
        "id": "PbvYfS8MnDcX",
        "outputId": "0c665c24-f91c-4e6e-ffa1-4b1bbc929960"
      },
      "execution_count": 4,
      "outputs": [
        {
          "output_type": "stream",
          "name": "stdout",
          "text": [
            "Hello 8\n"
          ]
        }
      ]
    },
    {
      "cell_type": "code",
      "source": [
        "#Store Multiple Variable\n",
        "a, b, c = 'Hello', 10, 'Welcome'\n",
        "print(b)"
      ],
      "metadata": {
        "colab": {
          "base_uri": "https://localhost:8080/"
        },
        "id": "AeH_bsjrnhnA",
        "outputId": "4790263b-db8b-4691-b84b-29c4d97bf923"
      },
      "execution_count": 7,
      "outputs": [
        {
          "output_type": "stream",
          "name": "stdout",
          "text": [
            "10\n"
          ]
        }
      ]
    },
    {
      "cell_type": "code",
      "source": [
        "a = 'Sri Lanka'\n",
        "print('I love' +' '+  a)"
      ],
      "metadata": {
        "colab": {
          "base_uri": "https://localhost:8080/"
        },
        "id": "eI2y9S-Nn2xj",
        "outputId": "6acb151f-8d2d-4ed6-b9ce-45ffb0c4c1cd"
      },
      "execution_count": 11,
      "outputs": [
        {
          "output_type": "stream",
          "name": "stdout",
          "text": [
            "I love Sri Lanka\n"
          ]
        }
      ]
    },
    {
      "cell_type": "code",
      "source": [
        "#Globel Variable using in Local Variable\n",
        "a = 'Sri Lanka'\n",
        "\n",
        "def add():\n",
        "  print(a)\n",
        "\n",
        "add()"
      ],
      "metadata": {
        "colab": {
          "base_uri": "https://localhost:8080/"
        },
        "id": "c-U70Ox5ogQc",
        "outputId": "caf6686a-295f-4d03-e442-f33e93437c27"
      },
      "execution_count": 14,
      "outputs": [
        {
          "output_type": "stream",
          "name": "stdout",
          "text": [
            "Sri Lanka\n"
          ]
        }
      ]
    },
    {
      "cell_type": "code",
      "source": [
        "#Using globel\n",
        "def fun():\n",
        "  global x\n",
        "  x = 'Hi'\n",
        "\n",
        "fun()\n",
        "print(x)"
      ],
      "metadata": {
        "colab": {
          "base_uri": "https://localhost:8080/"
        },
        "id": "rvu9MRHPo1xC",
        "outputId": "80742faa-476a-4b09-8960-0af8d8b7727f"
      },
      "execution_count": 15,
      "outputs": [
        {
          "output_type": "stream",
          "name": "stdout",
          "text": [
            "Hi\n"
          ]
        }
      ]
    },
    {
      "cell_type": "code",
      "source": [
        "#List Type\n",
        "a = ['Hi', 'Hello', 'Welcome']\n",
        "print(type(a))"
      ],
      "metadata": {
        "colab": {
          "base_uri": "https://localhost:8080/"
        },
        "id": "deeiF6tVqgnP",
        "outputId": "32f044a1-ebb3-4d22-c80c-2e14ccd5c504"
      },
      "execution_count": 16,
      "outputs": [
        {
          "output_type": "stream",
          "name": "stdout",
          "text": [
            "<class 'list'>\n"
          ]
        }
      ]
    },
    {
      "cell_type": "code",
      "source": [
        "#Tuple\n",
        "a = ('Hi', 'Hello', 'Welcome')\n",
        "print(type(a))"
      ],
      "metadata": {
        "colab": {
          "base_uri": "https://localhost:8080/"
        },
        "id": "LCu0FBiCrIE6",
        "outputId": "6a74bbd4-fffb-4e04-e830-26f690e8df1a"
      },
      "execution_count": 17,
      "outputs": [
        {
          "output_type": "stream",
          "name": "stdout",
          "text": [
            "<class 'tuple'>\n"
          ]
        }
      ]
    },
    {
      "cell_type": "code",
      "source": [
        "#ictionary\n",
        "a = {'Hi', 'Hello', 'Welcome'}\n",
        "print(type(a))"
      ],
      "metadata": {
        "colab": {
          "base_uri": "https://localhost:8080/"
        },
        "id": "Ht5_Ey04rRZZ",
        "outputId": "2d10b13d-6e22-43b4-95e3-a505164f7225"
      },
      "execution_count": 18,
      "outputs": [
        {
          "output_type": "stream",
          "name": "stdout",
          "text": [
            "<class 'set'>\n"
          ]
        }
      ]
    },
    {
      "cell_type": "code",
      "source": [
        "x = 10\n",
        "y = 2.5\n",
        "z = 5+6j\n",
        "\n",
        "a = float(x)\n",
        "b = int(y)\n",
        "c = complex(x)\n",
        "\n",
        "print(a, b, c)"
      ],
      "metadata": {
        "colab": {
          "base_uri": "https://localhost:8080/"
        },
        "id": "3XBbumWyrfmi",
        "outputId": "1871488a-762f-4afa-b94a-9a563763133b"
      },
      "execution_count": 19,
      "outputs": [
        {
          "output_type": "stream",
          "name": "stdout",
          "text": [
            "10.0 2 (10+0j)\n"
          ]
        }
      ]
    },
    {
      "cell_type": "code",
      "source": [
        "# Multi line String\n",
        "a = \"\"\"Hi\n",
        "Hello\n",
        "Welcome\"\"\"\n",
        "\n",
        "print(a)"
      ],
      "metadata": {
        "colab": {
          "base_uri": "https://localhost:8080/"
        },
        "id": "0LWvipJZsKIp",
        "outputId": "0917aaac-932f-47f4-ee52-7a5e34718c8d"
      },
      "execution_count": 20,
      "outputs": [
        {
          "output_type": "stream",
          "name": "stdout",
          "text": [
            "Hi\n",
            "Hello\n",
            "Welcome\n"
          ]
        }
      ]
    },
    {
      "cell_type": "code",
      "source": [
        "# String in Array\n",
        "a = 'Hello'\n",
        "print(a[0])"
      ],
      "metadata": {
        "colab": {
          "base_uri": "https://localhost:8080/"
        },
        "id": "fcwdlk9utEMN",
        "outputId": "0f7c6c65-1821-4a77-934f-200e77dda4f9"
      },
      "execution_count": 23,
      "outputs": [
        {
          "output_type": "stream",
          "name": "stdout",
          "text": [
            "H\n"
          ]
        }
      ]
    },
    {
      "cell_type": "code",
      "source": [],
      "metadata": {
        "id": "6QUSJb-HtS3m"
      },
      "execution_count": null,
      "outputs": []
    }
  ]
}