{
  "nbformat": 4,
  "nbformat_minor": 0,
  "metadata": {
    "colab": {
      "provenance": [],
      "authorship_tag": "ABX9TyPA9Gi0aML2gK3Ag4mELPxi",
      "include_colab_link": true
    },
    "kernelspec": {
      "name": "python3",
      "display_name": "Python 3"
    },
    "language_info": {
      "name": "python"
    }
  },
  "cells": [
    {
      "cell_type": "markdown",
      "metadata": {
        "id": "view-in-github",
        "colab_type": "text"
      },
      "source": [
        "<a href=\"https://colab.research.google.com/github/jamesjoy-2k24/Python-Course/blob/main/Day3.ipynb\" target=\"_parent\"><img src=\"https://colab.research.google.com/assets/colab-badge.svg\" alt=\"Open In Colab\"/></a>"
      ]
    },
    {
      "cell_type": "code",
      "execution_count": null,
      "metadata": {
        "id": "BiGqqZumCXmb",
        "colab": {
          "base_uri": "https://localhost:8080/"
        },
        "outputId": "23fe4491-92f1-44af-88a6-22dcf661b77e"
      },
      "outputs": [
        {
          "output_type": "stream",
          "name": "stdout",
          "text": [
            "Hello, ('Joy', 'James')\n"
          ]
        }
      ],
      "source": [
        "def welcome(*name):\n",
        "  print('Hello,', name)\n",
        "\n",
        "welcome('Joy', 'James')"
      ]
    },
    {
      "cell_type": "code",
      "source": [
        "def welcome(*name):\n",
        "  print('Hello, '+', '.join(name) + \"!\")\n",
        "\n",
        "welcome('Joy', 'James')"
      ],
      "metadata": {
        "id": "305KBkJpDlCi",
        "colab": {
          "base_uri": "https://localhost:8080/"
        },
        "outputId": "d45f4020-00f2-4514-d326-7afcba12e87d"
      },
      "execution_count": null,
      "outputs": [
        {
          "output_type": "stream",
          "name": "stdout",
          "text": [
            "Hello, Joy, James!\n"
          ]
        }
      ]
    },
    {
      "cell_type": "code",
      "source": [
        "def welcome(*name):\n",
        "  for i in name:\n",
        "    print('Hello,' + i + 'i')\n",
        "\n",
        "welcome('a','b','c')"
      ],
      "metadata": {
        "id": "0MFwheOiEnIZ",
        "colab": {
          "base_uri": "https://localhost:8080/"
        },
        "outputId": "86ece349-72f4-4353-d3a0-4b7de70416f4"
      },
      "execution_count": null,
      "outputs": [
        {
          "output_type": "stream",
          "name": "stdout",
          "text": [
            "Hello,ai\n",
            "Hello,bi\n",
            "Hello,ci\n"
          ]
        }
      ]
    },
    {
      "cell_type": "code",
      "source": [
        "import math\n",
        "\n",
        "x = 2.25\n",
        "y = 3\n",
        "\n",
        "result = math.sqrt(x)\n",
        "print(result)\n",
        "\n",
        "result = math.pow(x,y)\n",
        "print(result)"
      ],
      "metadata": {
        "id": "pAFE99lWE38j",
        "colab": {
          "base_uri": "https://localhost:8080/"
        },
        "outputId": "257468dd-3b66-47f8-a587-d4e817c93a38"
      },
      "execution_count": null,
      "outputs": [
        {
          "output_type": "stream",
          "name": "stdout",
          "text": [
            "1.5\n",
            "11.390625\n"
          ]
        }
      ]
    },
    {
      "cell_type": "code",
      "source": [
        "import math\n",
        "print(dir(math))"
      ],
      "metadata": {
        "id": "dAEtpt1qFdgW",
        "colab": {
          "base_uri": "https://localhost:8080/"
        },
        "outputId": "545f95ee-c92e-4d90-f688-2f3812f01d52"
      },
      "execution_count": null,
      "outputs": [
        {
          "output_type": "stream",
          "name": "stdout",
          "text": [
            "['__doc__', '__loader__', '__name__', '__package__', '__spec__', 'acos', 'acosh', 'asin', 'asinh', 'atan', 'atan2', 'atanh', 'ceil', 'comb', 'copysign', 'cos', 'cosh', 'degrees', 'dist', 'e', 'erf', 'erfc', 'exp', 'expm1', 'fabs', 'factorial', 'floor', 'fmod', 'frexp', 'fsum', 'gamma', 'gcd', 'hypot', 'inf', 'isclose', 'isfinite', 'isinf', 'isnan', 'isqrt', 'lcm', 'ldexp', 'lgamma', 'log', 'log10', 'log1p', 'log2', 'modf', 'nan', 'nextafter', 'perm', 'pi', 'pow', 'prod', 'radians', 'remainder', 'sin', 'sinh', 'sqrt', 'tan', 'tanh', 'tau', 'trunc', 'ulp']\n"
          ]
        }
      ]
    },
    {
      "cell_type": "code",
      "source": [
        "# Elif function\n",
        "a = 100\n",
        "b = 30"
      ],
      "metadata": {
        "id": "tfpdVNAWGCl2"
      },
      "execution_count": null,
      "outputs": []
    },
    {
      "cell_type": "code",
      "source": [
        "if a > b : print ('a is greater than b')"
      ],
      "metadata": {
        "id": "UZiOG670GsiO"
      },
      "execution_count": null,
      "outputs": []
    },
    {
      "cell_type": "code",
      "source": [
        "a = 2\n",
        "b = 300\n",
        "print('A') if a > b else print ('B')"
      ],
      "metadata": {
        "colab": {
          "base_uri": "https://localhost:8080/"
        },
        "id": "dyd6argZGzXw",
        "outputId": "7788df98-68a4-41be-ac50-06cb95b1df24"
      },
      "execution_count": null,
      "outputs": [
        {
          "output_type": "stream",
          "name": "stdout",
          "text": [
            "B\n"
          ]
        }
      ]
    },
    {
      "cell_type": "code",
      "source": [
        "# Ternary operator\n",
        "a = 300\n",
        "b = 310\n",
        "print('A') if a > b else print ('=') if a == b else print ('B')"
      ],
      "metadata": {
        "colab": {
          "base_uri": "https://localhost:8080/"
        },
        "id": "0MB9RqHEHAvq",
        "outputId": "6c182b05-b82d-4596-e734-ad69d865e9fa"
      },
      "execution_count": null,
      "outputs": [
        {
          "output_type": "stream",
          "name": "stdout",
          "text": [
            "B\n"
          ]
        }
      ]
    },
    {
      "cell_type": "code",
      "source": [
        "# nested if\n",
        "x = 40\n",
        "\n",
        "if x > 20 :\n",
        "  print('It is above ten')\n",
        "  if x > 30 :\n",
        "    print('Also above 30!')\n",
        "  else:\n",
        "    print('Not above 50')"
      ],
      "metadata": {
        "colab": {
          "base_uri": "https://localhost:8080/"
        },
        "id": "b_MeAhrkHT7B",
        "outputId": "0561e771-020f-44ed-c898-719ae4c9ce2f"
      },
      "execution_count": null,
      "outputs": [
        {
          "output_type": "stream",
          "name": "stdout",
          "text": [
            "It is above ten\n",
            "Also above 30!\n"
          ]
        }
      ]
    },
    {
      "cell_type": "code",
      "source": [
        "# While loop\n",
        "i = 1\n",
        "while i < 6:\n",
        "  print(i)\n",
        "  i += 1"
      ],
      "metadata": {
        "colab": {
          "base_uri": "https://localhost:8080/"
        },
        "id": "Y2VCY3_sHwLa",
        "outputId": "099f207f-da01-41cd-ea1c-37cb13a0acf1"
      },
      "execution_count": null,
      "outputs": [
        {
          "output_type": "stream",
          "name": "stdout",
          "text": [
            "1\n",
            "2\n",
            "3\n",
            "4\n",
            "5\n"
          ]
        }
      ]
    },
    {
      "cell_type": "code",
      "source": [
        "# While loop\n",
        "i = 1\n",
        "while i < 6:\n",
        "  i += 1\n",
        "  if i == 3 :\n",
        "    continue\n",
        "  print(i)"
      ],
      "metadata": {
        "colab": {
          "base_uri": "https://localhost:8080/"
        },
        "id": "PXau8cF1IUvm",
        "outputId": "8638df7b-7499-4fa5-8aad-1af7d0a1ed5f"
      },
      "execution_count": null,
      "outputs": [
        {
          "output_type": "stream",
          "name": "stdout",
          "text": [
            "2\n",
            "4\n",
            "5\n",
            "6\n"
          ]
        }
      ]
    },
    {
      "cell_type": "code",
      "source": [
        "# Test\n",
        "x = 5\n",
        "y =10\n",
        "print(x+int(y))"
      ],
      "metadata": {
        "colab": {
          "base_uri": "https://localhost:8080/"
        },
        "id": "BpDmJuDFIflt",
        "outputId": "0faa4195-bcc3-4e0f-9b01-4ac756957943"
      },
      "execution_count": null,
      "outputs": [
        {
          "output_type": "stream",
          "name": "stdout",
          "text": [
            "15\n"
          ]
        }
      ]
    },
    {
      "cell_type": "code",
      "source": [
        "my_string = 'Hello'\n",
        "print(my_string[::-1])"
      ],
      "metadata": {
        "colab": {
          "base_uri": "https://localhost:8080/"
        },
        "id": "H7_rzKyHJOK0",
        "outputId": "c3c49a8c-2f27-4f92-f89d-b8a9ebb0d041"
      },
      "execution_count": null,
      "outputs": [
        {
          "output_type": "stream",
          "name": "stdout",
          "text": [
            "olleH\n"
          ]
        }
      ]
    },
    {
      "cell_type": "code",
      "source": [
        "a = 'Hello'\n",
        "print(a[0])"
      ],
      "metadata": {
        "id": "3Er-RzDGJy1x",
        "colab": {
          "base_uri": "https://localhost:8080/"
        },
        "outputId": "5597cd65-6fee-4d2c-f4fb-99801db23b08"
      },
      "execution_count": 6,
      "outputs": [
        {
          "output_type": "stream",
          "name": "stdout",
          "text": [
            "H\n"
          ]
        }
      ]
    },
    {
      "cell_type": "code",
      "source": [
        "# Extend\n",
        "list = ['a','b','c']\n",
        "list.extend('apple')\n",
        "print(list)"
      ],
      "metadata": {
        "colab": {
          "base_uri": "https://localhost:8080/"
        },
        "id": "hdqaKXAiKGVn",
        "outputId": "41e4a6bf-5a34-4388-9d1a-9324caff81dd"
      },
      "execution_count": 7,
      "outputs": [
        {
          "output_type": "stream",
          "name": "stdout",
          "text": [
            "['a', 'b', 'c', 'a', 'p', 'p', 'l', 'e']\n"
          ]
        }
      ]
    },
    {
      "cell_type": "code",
      "source": [
        "list = ['a','b','c']\n",
        "print(list.copy())"
      ],
      "metadata": {
        "colab": {
          "base_uri": "https://localhost:8080/"
        },
        "id": "5ymj9ZEoOOux",
        "outputId": "0765df1f-444f-4e01-985e-b44e9c2233a8"
      },
      "execution_count": 8,
      "outputs": [
        {
          "output_type": "stream",
          "name": "stdout",
          "text": [
            "['a', 'b', 'c']\n"
          ]
        }
      ]
    },
    {
      "cell_type": "code",
      "source": [],
      "metadata": {
        "id": "SpTkLTejOZsy"
      },
      "execution_count": null,
      "outputs": []
    }
  ]
}