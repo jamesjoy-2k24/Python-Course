{
  "nbformat": 4,
  "nbformat_minor": 0,
  "metadata": {
    "colab": {
      "provenance": [],
      "authorship_tag": "ABX9TyOEJxaRkfZFsUhHiFYnhZML",
      "include_colab_link": true
    },
    "kernelspec": {
      "name": "python3",
      "display_name": "Python 3"
    },
    "language_info": {
      "name": "python"
    }
  },
  "cells": [
    {
      "cell_type": "markdown",
      "metadata": {
        "id": "view-in-github",
        "colab_type": "text"
      },
      "source": [
        "<a href=\"https://colab.research.google.com/github/jamesjoy-2k24/Python-Course/blob/main/Day4.ipynb\" target=\"_parent\"><img src=\"https://colab.research.google.com/assets/colab-badge.svg\" alt=\"Open In Colab\"/></a>"
      ]
    },
    {
      "cell_type": "markdown",
      "source": [
        "Class - collection of objects\n",
        "Object - variants of class & Instance of **class**"
      ],
      "metadata": {
        "id": "dRf4-tvZVZYp"
      }
    },
    {
      "cell_type": "code",
      "source": [
        "class Employee:\n",
        "  def __init__(self, name, age): # dunder method - __init__, __str__\n",
        "    self.name = name\n",
        "    self.age = age"
      ],
      "metadata": {
        "id": "fiMOyMasUWbV"
      },
      "execution_count": 1,
      "outputs": []
    },
    {
      "cell_type": "code",
      "source": [
        "list1 = [\"Joy\", 22, \"Student\", 100]\n",
        "list2 = [\"Aswin\", \"Lecture\", 1000]"
      ],
      "metadata": {
        "id": "ZwKZkEZ3UlTu"
      },
      "execution_count": null,
      "outputs": []
    },
    {
      "cell_type": "code",
      "source": [
        "class Dog:\n",
        "  pass\n",
        "Dog()"
      ],
      "metadata": {
        "colab": {
          "base_uri": "https://localhost:8080/"
        },
        "id": "TBXbhNsXWC02",
        "outputId": "77cfe451-e8ab-4549-8314-59a26ca538e1"
      },
      "execution_count": 3,
      "outputs": [
        {
          "output_type": "execute_result",
          "data": {
            "text/plain": [
              "<__main__.Dog at 0x7f7ae3782020>"
            ]
          },
          "metadata": {},
          "execution_count": 3
        }
      ]
    },
    {
      "cell_type": "code",
      "source": [
        "a = Dog()\n",
        "b = Dog()\n",
        "a == b"
      ],
      "metadata": {
        "colab": {
          "base_uri": "https://localhost:8080/"
        },
        "id": "SpZCl5U9WJKV",
        "outputId": "5f412440-0e8a-463e-cd59-b1702f4055cd"
      },
      "execution_count": 4,
      "outputs": [
        {
          "output_type": "execute_result",
          "data": {
            "text/plain": [
              "False"
            ]
          },
          "metadata": {},
          "execution_count": 4
        }
      ]
    },
    {
      "cell_type": "code",
      "source": [
        "class Dog:\n",
        "  spesies = \"local\" # class atributes\n",
        "  def ___init___(self, name, age):\n",
        "    self.name = name\n",
        "    self.age = age"
      ],
      "metadata": {
        "id": "INuOoQwNWcFx"
      },
      "execution_count": 26,
      "outputs": []
    },
    {
      "cell_type": "code",
      "source": [
        "Dog1 = Dog(\"Lab\", 3) # Instance method\n",
        "Dog1 = Dog(\"Bulldog\", 5)\n",
        "\n",
        "Dog1.name()"
      ],
      "metadata": {
        "id": "5gpyyLVOmR1p"
      },
      "execution_count": null,
      "outputs": []
    },
    {
      "cell_type": "code",
      "source": [
        "class Parrot():\n",
        "  name = \"\"\n",
        "  age = 0\n",
        "\n",
        "parrot1 = Parrot()\n",
        "parrot1.name = \"abc\"\n",
        "parrot1.age = 20\n",
        "\n",
        "parrot2 = Parrot()\n",
        "parrot2.name = \"fgh\"\n",
        "parrot2.age = 15\n",
        "\n",
        "print(f\"{parrot1.name} is {parrot1.age} years old\")\n",
        "print(f\"{parrot2.name} is {parrot2.age} years old\")"
      ],
      "metadata": {
        "colab": {
          "base_uri": "https://localhost:8080/"
        },
        "id": "Mzefnh4JdmdY",
        "outputId": "c391f5f4-7676-4a56-a1a2-8db39334bc34"
      },
      "execution_count": 5,
      "outputs": [
        {
          "output_type": "stream",
          "name": "stdout",
          "text": [
            "abc is 20 years old\n",
            "fgh is 15 years old\n"
          ]
        }
      ]
    },
    {
      "cell_type": "code",
      "source": [
        "class Parent:\n",
        "  hair_color = \"black\"\n",
        "  lanuage = \"English\"\n",
        "\n",
        "class Child(Parent):\n",
        "  lanuage = \"German\""
      ],
      "metadata": {
        "id": "tWAxPywkekBy"
      },
      "execution_count": null,
      "outputs": []
    },
    {
      "cell_type": "code",
      "source": [
        "class Dog:\n",
        "  species = \"Local\" # Optional\n",
        "\n",
        "  def __init__(self, name, age, breed):\n",
        "    self.name = name\n",
        "    self.age = age\n",
        "    self.breed = breed\n",
        "\n",
        "  def __str__(self): # Special instance\n",
        "    return f\"{self.name} is {self.age} years old\"\n",
        "\n",
        "  def speak(self, sound): # Another instance\n",
        "    return f\"{self.name} says {sound}\""
      ],
      "metadata": {
        "id": "8oqZ2BiCfXHO"
      },
      "execution_count": 30,
      "outputs": []
    },
    {
      "cell_type": "code",
      "source": [
        "Dog1 = Dog(\"Jack\", 4, \"Labroder\")\n",
        "Dog2 = Dog(\"Peter\", 6, \"Pomerian\")\n",
        "Dog3 = Dog(\"Jill\", 2, \"Bulldog\")\n",
        "\n",
        "Dog1.speak(\"ohh ohh\")"
      ],
      "metadata": {
        "colab": {
          "base_uri": "https://localhost:8080/",
          "height": 35
        },
        "id": "jUDsGkb-gFYG",
        "outputId": "cd667a93-7bbc-42ae-d6cc-f21d96b8c2ce"
      },
      "execution_count": 18,
      "outputs": [
        {
          "output_type": "execute_result",
          "data": {
            "text/plain": [
              "'Jack says ohh ohh'"
            ],
            "application/vnd.google.colaboratory.intrinsic+json": {
              "type": "string"
            }
          },
          "metadata": {},
          "execution_count": 18
        }
      ]
    },
    {
      "cell_type": "code",
      "source": [
        "class Dog:\n",
        "  species = \"Local\"\n",
        "\n",
        "  def __init__(self, name, age, breed):\n",
        "    self.name = name\n",
        "    self.age = age\n",
        "    self.breed = breed\n",
        "\n",
        "  def __str__(self):\n",
        "    return f\"{self.name} is {self.age} years old\"\n",
        "\n",
        "  def speak(self, sound):\n",
        "    return f\"{self.name} says {sound}\"\n",
        "\n",
        "  class Labroder(Dog):\n",
        "    pass\n",
        "  class Pomerian(Dog):\n",
        "    pass\n",
        "  class BullDog(Dog):\n",
        "    pass\n",
        "\n",
        "Dog1 = Dog(\"Jack\", 4, \"Labroder\")\n",
        "Dog2 = Dog(\"Peter\", 6, \"Pomerian\")\n",
        "Dog3 = Dog(\"Jill\", 2, \"Bulldog\")"
      ],
      "metadata": {
        "id": "09xIb4tDgl19"
      },
      "execution_count": 22,
      "outputs": []
    },
    {
      "cell_type": "code",
      "source": [
        "Dog1.name"
      ],
      "metadata": {
        "colab": {
          "base_uri": "https://localhost:8080/",
          "height": 35
        },
        "id": "7OTvDaaKiC4I",
        "outputId": "1199a2d8-d1dd-4960-94ce-a163adb7f2b1"
      },
      "execution_count": 14,
      "outputs": [
        {
          "output_type": "execute_result",
          "data": {
            "text/plain": [
              "'Jack'"
            ],
            "application/vnd.google.colaboratory.intrinsic+json": {
              "type": "string"
            }
          },
          "metadata": {},
          "execution_count": 14
        }
      ]
    },
    {
      "cell_type": "code",
      "source": [
        "Dog3.breed"
      ],
      "metadata": {
        "colab": {
          "base_uri": "https://localhost:8080/",
          "height": 35
        },
        "id": "c9fXNEhCiH42",
        "outputId": "5d243f59-06b4-4207-d6c2-9423858b68e1"
      },
      "execution_count": 15,
      "outputs": [
        {
          "output_type": "execute_result",
          "data": {
            "text/plain": [
              "'Bulldog'"
            ],
            "application/vnd.google.colaboratory.intrinsic+json": {
              "type": "string"
            }
          },
          "metadata": {},
          "execution_count": 15
        }
      ]
    },
    {
      "cell_type": "code",
      "source": [
        "Dog1.species"
      ],
      "metadata": {
        "colab": {
          "base_uri": "https://localhost:8080/",
          "height": 35
        },
        "id": "yPz_FG7GiNrV",
        "outputId": "e35225cd-5c2b-4fb6-83ca-b74bebe10184"
      },
      "execution_count": 16,
      "outputs": [
        {
          "output_type": "execute_result",
          "data": {
            "text/plain": [
              "'Local'"
            ],
            "application/vnd.google.colaboratory.intrinsic+json": {
              "type": "string"
            }
          },
          "metadata": {},
          "execution_count": 16
        }
      ]
    },
    {
      "cell_type": "code",
      "source": [
        "class Animal:\n",
        "  def eat(self):\n",
        "    print(\"I can eat\")\n",
        "  def sleep(self):\n",
        "    print(\"I can sleep\")\n",
        "\n",
        "class Dog(Animal):\n",
        "  def bark(self):\n",
        "    print(\"I can bark!\")\n",
        "\n",
        "dog1 = Dog()\n",
        "\n",
        "dog1.eat()\n",
        "dog1.sleep()\n",
        "dog1.bark()"
      ],
      "metadata": {
        "colab": {
          "base_uri": "https://localhost:8080/"
        },
        "id": "5BKU9gz5jTG7",
        "outputId": "185a2219-5def-48cb-ce4e-fbb4d68d773c"
      },
      "execution_count": 24,
      "outputs": [
        {
          "output_type": "stream",
          "name": "stdout",
          "text": [
            "I can eat\n",
            "I can sleep\n",
            "I can bark!\n"
          ]
        }
      ]
    },
    {
      "cell_type": "code",
      "source": [],
      "metadata": {
        "id": "Ivi4rgQ2kaC8"
      },
      "execution_count": null,
      "outputs": []
    }
  ]
}