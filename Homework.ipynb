{
  "nbformat": 4,
  "nbformat_minor": 0,
  "metadata": {
    "colab": {
      "provenance": [],
      "authorship_tag": "ABX9TyNCwoq1StxVk4A8kMbXKXYS",
      "include_colab_link": true
    },
    "kernelspec": {
      "name": "python3",
      "display_name": "Python 3"
    },
    "language_info": {
      "name": "python"
    }
  },
  "cells": [
    {
      "cell_type": "markdown",
      "metadata": {
        "id": "view-in-github",
        "colab_type": "text"
      },
      "source": [
        "<a href=\"https://colab.research.google.com/github/jamesjoy-2k24/Python-Course/blob/main/Homework.ipynb\" target=\"_parent\"><img src=\"https://colab.research.google.com/assets/colab-badge.svg\" alt=\"Open In Colab\"/></a>"
      ]
    },
    {
      "cell_type": "markdown",
      "source": [
        "## **Home Work**"
      ],
      "metadata": {
        "id": "n2oohWlnCbQs"
      }
    },
    {
      "cell_type": "code",
      "execution_count": 2,
      "metadata": {
        "colab": {
          "base_uri": "https://localhost:8080/"
        },
        "id": "_1M8DUvoCX4r",
        "outputId": "3420bfa8-fa6f-4949-abb0-85f2e28b51e3"
      },
      "outputs": [
        {
          "output_type": "stream",
          "name": "stdout",
          "text": [
            "15\n",
            "5\n",
            "50\n",
            "2.0\n"
          ]
        }
      ],
      "source": [
        "# Calculator\n",
        "class Calculator:\n",
        "  def add(slf, a, b):\n",
        "    return a + b\n",
        "\n",
        "  def sub(self, a, b):\n",
        "    return a - b\n",
        "\n",
        "  def multiply(self, a, b):\n",
        "    return a * b\n",
        "\n",
        "  def divide(self, a, b):\n",
        "    if b == 0:\n",
        "      print(\"It is not divide\")\n",
        "    return a/b\n",
        "\n",
        "calc = Calculator()\n",
        "\n",
        "print(calc.add(10,5))\n",
        "print(calc.sub(10,5))\n",
        "print(calc.multiply(10,5))\n",
        "print(calc.divide(10,5))"
      ]
    },
    {
      "cell_type": "code",
      "source": [
        "class Student:\n",
        "  def __init__(self, name, roll_number,):\n",
        "    self.name = name\n",
        "    self.roll = roll_number\n",
        "    # self.age\n",
        "    # self.marks\n",
        "\n",
        "  def display(self):\n",
        "    print(f\"Name : {self.name}\")\n",
        "    print(f\"Roll Number : {self.roll}\")\n",
        "    print(f\"Age : {self.age}\")\n",
        "    print(f\"Marks : {self.marks}\")\n",
        "\n",
        "  def setAge(self, age):\n",
        "    self.age = age\n",
        "\n",
        "  def setMarks(self, marks):\n",
        "    self.marks = marks\n",
        "\n",
        "student1 = Student('Joy','1000')\n",
        "student1.setAge(22)\n",
        "student1.setMarks(50)\n",
        "\n",
        "student2 = Student('Doshanth','0999')\n",
        "student2.setAge(25)\n",
        "student2.setMarks(75)\n",
        "\n",
        "# student1.display()\n",
        "student2.display()"
      ],
      "metadata": {
        "colab": {
          "base_uri": "https://localhost:8080/"
        },
        "id": "9lLuc2wsD2vH",
        "outputId": "d3af511d-8311-4613-ede4-9d33895ab03d"
      },
      "execution_count": 10,
      "outputs": [
        {
          "output_type": "stream",
          "name": "stdout",
          "text": [
            "Name : Doshanth\n",
            "Roll Number : 0999\n",
            "Age : 25\n",
            "Marks : 75\n"
          ]
        }
      ]
    },
    {
      "cell_type": "code",
      "source": [
        "pi = 22/7\n",
        "\n",
        "class Circle:\n",
        "  def __init__(self, radius):\n",
        "    self.radius = radius\n",
        "\n",
        "  def area(self):\n",
        "    return pi * (self.radius ** 2)\n",
        "\n",
        "  def circumference(self):\n",
        "    return 2 * pi * self.radius\n",
        "\n",
        "circle = Circle(8)\n",
        "\n",
        "print(\"Area :\", circle.area())\n",
        "print(\"Circumference :\", circle.circumference())"
      ],
      "metadata": {
        "colab": {
          "base_uri": "https://localhost:8080/"
        },
        "id": "kG7Aj7OOGrNp",
        "outputId": "5b11a895-d4b6-42b9-ab4f-7c0b757b95a9"
      },
      "execution_count": 14,
      "outputs": [
        {
          "output_type": "stream",
          "name": "stdout",
          "text": [
            "Area : 201.14285714285714\n",
            "Circumference : 50.285714285714285\n"
          ]
        }
      ]
    },
    {
      "cell_type": "code",
      "source": [],
      "metadata": {
        "id": "hB0GjhEgJJbz"
      },
      "execution_count": null,
      "outputs": []
    }
  ]
}