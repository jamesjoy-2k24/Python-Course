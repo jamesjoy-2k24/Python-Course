{
  "nbformat": 4,
  "nbformat_minor": 0,
  "metadata": {
    "colab": {
      "provenance": [],
      "authorship_tag": "ABX9TyP8QqMul740AGAA2/WgjChf",
      "include_colab_link": true
    },
    "kernelspec": {
      "name": "python3",
      "display_name": "Python 3"
    },
    "language_info": {
      "name": "python"
    }
  },
  "cells": [
    {
      "cell_type": "markdown",
      "metadata": {
        "id": "view-in-github",
        "colab_type": "text"
      },
      "source": [
        "<a href=\"https://colab.research.google.com/github/jamesjoy-2k24/Python-Course/blob/main/Day_2.ipynb\" target=\"_parent\"><img src=\"https://colab.research.google.com/assets/colab-badge.svg\" alt=\"Open In Colab\"/></a>"
      ]
    },
    {
      "cell_type": "markdown",
      "source": [],
      "metadata": {
        "id": "XWCxvA2G3Flf"
      }
    },
    {
      "cell_type": "code",
      "execution_count": 1,
      "metadata": {
        "colab": {
          "base_uri": "https://localhost:8080/"
        },
        "id": "fGlsCaTQ15vS",
        "outputId": "2da964b1-3a24-418d-838b-1215c97b8be9"
      },
      "outputs": [
        {
          "output_type": "stream",
          "name": "stdout",
          "text": [
            "5\n",
            "Sri Lanka\n"
          ]
        }
      ],
      "source": [
        "a =5\n",
        "A = 'Sri Lanka'\n",
        "\n",
        "print(a)\n",
        "print(A)"
      ]
    },
    {
      "cell_type": "code",
      "source": [
        "num = [1,2,3] # Starting should not be a num, no spaces, no (-)\n",
        "print(num)"
      ],
      "metadata": {
        "colab": {
          "base_uri": "https://localhost:8080/"
        },
        "id": "YjJ1Rmez29gf",
        "outputId": "2f98d967-b2d4-4273-d593-953306f539a3"
      },
      "execution_count": 2,
      "outputs": [
        {
          "output_type": "stream",
          "name": "stdout",
          "text": [
            "[1, 2, 3]\n"
          ]
        }
      ]
    },
    {
      "cell_type": "markdown",
      "source": [
        "## Multi word variable techniques"
      ],
      "metadata": {
        "id": "88KJ7MpO4vZ_"
      }
    },
    {
      "cell_type": "code",
      "source": [
        "# Camel case variables\n",
        "iLoveSriLanka = [a,\"b\",\"c\"]\n",
        "print(iLoveSriLanka)"
      ],
      "metadata": {
        "colab": {
          "base_uri": "https://localhost:8080/"
        },
        "id": "FkP5IwJ43NXW",
        "outputId": "08a31771-6f20-4b6f-a7e9-00c48ee65702"
      },
      "execution_count": 4,
      "outputs": [
        {
          "output_type": "stream",
          "name": "stdout",
          "text": [
            "[5, 'b', 'c']\n"
          ]
        }
      ]
    },
    {
      "cell_type": "code",
      "source": [
        "# Pascal Case\n",
        "ILoveSriLanka = [a,2,3]\n",
        "print(ILoveSriLanka)"
      ],
      "metadata": {
        "colab": {
          "base_uri": "https://localhost:8080/"
        },
        "id": "V15Ol5Yq4JfO",
        "outputId": "661c40d9-9f70-4a05-aaa1-718f5a160de5"
      },
      "execution_count": 6,
      "outputs": [
        {
          "output_type": "stream",
          "name": "stdout",
          "text": [
            "[5, 2, 3]\n"
          ]
        }
      ]
    },
    {
      "cell_type": "code",
      "source": [
        "# Snake Case\n",
        "I_Love_SriLanka = [a,2,3]\n",
        "print(I_Love_SriLanka)"
      ],
      "metadata": {
        "colab": {
          "base_uri": "https://localhost:8080/"
        },
        "id": "KVKdweOM4iik",
        "outputId": "efbd9ee4-48ed-4d0f-bc27-a9e7d21bf099"
      },
      "execution_count": 7,
      "outputs": [
        {
          "output_type": "stream",
          "name": "stdout",
          "text": [
            "[5, 2, 3]\n"
          ]
        }
      ]
    },
    {
      "cell_type": "markdown",
      "source": [
        "# Operators"
      ],
      "metadata": {
        "id": "q2wOwD0V57Vx"
      }
    },
    {
      "cell_type": "code",
      "source": [
        "# Arithmetic = (+ , - , / , % , * , **)\n",
        "# Relational = (< , > , == , !=)\n",
        "# Logical = (and, or, not)\n",
        "# Membership = (in , not in)"
      ],
      "metadata": {
        "id": "GVVIjTCb4t6i"
      },
      "execution_count": null,
      "outputs": []
    },
    {
      "cell_type": "code",
      "source": [
        "a = 10\n",
        "b = 2\n",
        "print(a/b)\n",
        "print(a%b)\n",
        "print(a**b)"
      ],
      "metadata": {
        "colab": {
          "base_uri": "https://localhost:8080/"
        },
        "id": "Bf7frSCP6slU",
        "outputId": "717150da-5251-417a-f977-f4354040fdef"
      },
      "execution_count": 8,
      "outputs": [
        {
          "output_type": "stream",
          "name": "stdout",
          "text": [
            "5.0\n",
            "0\n",
            "100\n"
          ]
        }
      ]
    },
    {
      "cell_type": "code",
      "source": [
        "# And , Or , and Not Operator\n",
        "a = 5\n",
        "print( a>3 and a<10)\n",
        "print( a<3 or a<10)"
      ],
      "metadata": {
        "colab": {
          "base_uri": "https://localhost:8080/"
        },
        "id": "fEHEuesQ6-hZ",
        "outputId": "06cc4220-2b61-4d35-e50f-cddc956607e7"
      },
      "execution_count": 9,
      "outputs": [
        {
          "output_type": "stream",
          "name": "stdout",
          "text": [
            "True\n",
            "True\n"
          ]
        }
      ]
    },
    {
      "cell_type": "code",
      "source": [
        "# Format String\n",
        "name = \"Joy\"\n",
        "age = 22\n",
        "\n",
        "sample = f\"Hello, my name is {name} and I'm {age} years old.\"\n",
        "print(sample)\n"
      ],
      "metadata": {
        "colab": {
          "base_uri": "https://localhost:8080/"
        },
        "id": "9oRLF-IP7biR",
        "outputId": "5776b2ad-b2e7-4692-b642-b0a044833416"
      },
      "execution_count": 11,
      "outputs": [
        {
          "output_type": "stream",
          "name": "stdout",
          "text": [
            "Hello, my name is Joy and I'm 22 years old.\n"
          ]
        }
      ]
    },
    {
      "cell_type": "code",
      "source": [
        "# Range\n",
        "sample = range(10)\n",
        "for i in sample :\n",
        "  print(i)"
      ],
      "metadata": {
        "colab": {
          "base_uri": "https://localhost:8080/"
        },
        "id": "ZC3YJzAf8IwT",
        "outputId": "6022997a-6173-475d-97bd-2ebcfd605dc8"
      },
      "execution_count": 13,
      "outputs": [
        {
          "output_type": "stream",
          "name": "stdout",
          "text": [
            "0\n",
            "1\n",
            "2\n",
            "3\n",
            "4\n",
            "5\n",
            "6\n",
            "7\n",
            "8\n",
            "9\n"
          ]
        }
      ]
    },
    {
      "cell_type": "code",
      "source": [
        "def multiplication_table(n):\n",
        "  for i in range(1,11):\n",
        "    print(f\"{n} * {i} = {n * i}\")\n",
        "\n",
        "multiplication_table(5)"
      ],
      "metadata": {
        "colab": {
          "base_uri": "https://localhost:8080/"
        },
        "id": "Bho042Nd8nFN",
        "outputId": "87b22ec8-c933-48af-b941-60fa73f9f2ac"
      },
      "execution_count": 16,
      "outputs": [
        {
          "output_type": "stream",
          "name": "stdout",
          "text": [
            "5 * 1 = 5\n",
            "5 * 2 = 10\n",
            "5 * 3 = 15\n",
            "5 * 4 = 20\n",
            "5 * 5 = 25\n",
            "5 * 6 = 30\n",
            "5 * 7 = 35\n",
            "5 * 8 = 40\n",
            "5 * 9 = 45\n",
            "5 * 10 = 50\n"
          ]
        }
      ]
    },
    {
      "cell_type": "code",
      "source": [
        "# Random Function\n",
        "import random\n",
        "print(random.randrange(1,10))"
      ],
      "metadata": {
        "colab": {
          "base_uri": "https://localhost:8080/"
        },
        "id": "27-g8Gap9Na4",
        "outputId": "2adba4f9-5eb1-4188-e85d-4f3e909247f1"
      },
      "execution_count": 17,
      "outputs": [
        {
          "output_type": "stream",
          "name": "stdout",
          "text": [
            "6\n"
          ]
        }
      ]
    },
    {
      "cell_type": "code",
      "source": [
        "# Python Casting - int, str, float\n",
        "\n",
        "a = int(2.5)\n",
        "b = int(\"3\")\n",
        "\n",
        "print(a)\n",
        "print(b)"
      ],
      "metadata": {
        "colab": {
          "base_uri": "https://localhost:8080/"
        },
        "id": "z-LnGx719yXm",
        "outputId": "44df8ca0-86b7-419d-b573-cbf37273d544"
      },
      "execution_count": 19,
      "outputs": [
        {
          "output_type": "stream",
          "name": "stdout",
          "text": [
            "2\n",
            "3\n"
          ]
        }
      ]
    },
    {
      "cell_type": "code",
      "source": [
        "a = \"Hello, Sri Lanka!\"\n",
        "print(a.strip())\n",
        "print(a.replace(\"e\",\"a\"))\n",
        "print(len(a))\n",
        "print(a.split(\"S\"))"
      ],
      "metadata": {
        "colab": {
          "base_uri": "https://localhost:8080/"
        },
        "id": "qxF6bnBW-o5K",
        "outputId": "89adc9d1-9dd2-444e-e504-038fa7438299"
      },
      "execution_count": 20,
      "outputs": [
        {
          "output_type": "stream",
          "name": "stdout",
          "text": [
            "Hello, Sri Lanka!\n",
            "Hallo, Sri Lanka!\n",
            "17\n",
            "['Hello, ', 'ri Lanka!']\n"
          ]
        }
      ]
    },
    {
      "cell_type": "code",
      "source": [
        "# Escape Character\n",
        "txt = \"I Love \\\"Sri Lanka\\\" \\n India and China\"\n",
        "print(txt)"
      ],
      "metadata": {
        "colab": {
          "base_uri": "https://localhost:8080/"
        },
        "id": "vf5VqzP8B6e0",
        "outputId": "abb291f8-2834-4b78-d2f9-8cbcca6e891f"
      },
      "execution_count": 23,
      "outputs": [
        {
          "output_type": "stream",
          "name": "stdout",
          "text": [
            "I Love \"Sri Lanka\" \n",
            " India and China\n"
          ]
        }
      ]
    },
    {
      "cell_type": "markdown",
      "source": [
        "## List"
      ],
      "metadata": {
        "id": "iUNGymCjDw7S"
      }
    },
    {
      "cell_type": "code",
      "source": [
        "# List is always mutable, ordered, []\n",
        "# methods - append\n",
        "#         - pop\n",
        "#         - short\n",
        "#         - reverse"
      ],
      "metadata": {
        "id": "n0TxAiMMCZvq"
      },
      "execution_count": 27,
      "outputs": []
    },
    {
      "cell_type": "code",
      "source": [
        "list = [100, 23, 45, 60, 80]\n",
        "list.sort() # Ascending\n",
        "print(list)\n",
        "\n",
        "list.reverse() # Reverse\n",
        "print(list)"
      ],
      "metadata": {
        "colab": {
          "base_uri": "https://localhost:8080/"
        },
        "id": "wZKHhPpSDCve",
        "outputId": "de85f03f-de42-43e7-ea8e-31107f2d6eef"
      },
      "execution_count": 26,
      "outputs": [
        {
          "output_type": "stream",
          "name": "stdout",
          "text": [
            "[23, 45, 60, 80, 100]\n",
            "[100, 80, 60, 45, 23]\n"
          ]
        }
      ]
    },
    {
      "cell_type": "markdown",
      "source": [
        "## Tuple"
      ],
      "metadata": {
        "id": "_8Jbz7JuD1p1"
      }
    },
    {
      "cell_type": "code",
      "source": [
        "# Immutable\n",
        "# nested\n",
        "# cannot modify\n",
        "# once created remains static().\n",
        "# concatenation"
      ],
      "metadata": {
        "id": "C6QJgb2eDMJs"
      },
      "execution_count": null,
      "outputs": []
    },
    {
      "cell_type": "code",
      "source": [
        "tuple = ((1,2),(10,20))\n",
        "print(tuple)"
      ],
      "metadata": {
        "colab": {
          "base_uri": "https://localhost:8080/"
        },
        "id": "q3lOGPMuENBD",
        "outputId": "ffc076e0-9e3e-4c9c-c83b-4c9f82134b3b"
      },
      "execution_count": 28,
      "outputs": [
        {
          "output_type": "stream",
          "name": "stdout",
          "text": [
            "((1, 2), (10, 20))\n"
          ]
        }
      ]
    },
    {
      "cell_type": "code",
      "source": [
        "tuple1 = (1,2,3)\n",
        "print(tuple1 * 5)"
      ],
      "metadata": {
        "colab": {
          "base_uri": "https://localhost:8080/"
        },
        "id": "zoG-oSUzETk8",
        "outputId": "dfca1175-64df-443b-8eba-902c2d3ec04d"
      },
      "execution_count": 29,
      "outputs": [
        {
          "output_type": "stream",
          "name": "stdout",
          "text": [
            "(1, 2, 3, 1, 2, 3, 1, 2, 3, 1, 2, 3, 1, 2, 3)\n"
          ]
        }
      ]
    },
    {
      "cell_type": "markdown",
      "source": [
        "## Set"
      ],
      "metadata": {
        "id": "YCNm1p4QEuA8"
      }
    },
    {
      "cell_type": "code",
      "source": [
        "# Mutable\n",
        "# Unordered collection of unique symbols\n",
        "# No duplicates\n",
        "\"\"\"methods  - add\n",
        "            - pop\n",
        "            - insert\n",
        "            - len\"\"\""
      ],
      "metadata": {
        "colab": {
          "base_uri": "https://localhost:8080/"
        },
        "id": "92EJvO6pEsbG",
        "outputId": "0626f664-b943-4cc4-9232-a3425e954b83"
      },
      "execution_count": 31,
      "outputs": [
        {
          "output_type": "stream",
          "name": "stdout",
          "text": [
            "{1, 2, 3, 10, 20, 30}\n",
            "{1, 2, 3, 10, 20, 30}\n"
          ]
        }
      ]
    },
    {
      "cell_type": "code",
      "source": [
        "set1 = {1,2,3}\n",
        "set2 = {3,4,5}\n",
        "\n",
        "union_set = set1 | set2\n",
        "intersection_set = set1 & set2\n",
        "different_set = set1 - set2\n",
        "\n",
        "print(union_set)\n",
        "print(intersection_set)\n",
        "print(different_set)"
      ],
      "metadata": {
        "colab": {
          "base_uri": "https://localhost:8080/"
        },
        "id": "prMlWulDFBJ3",
        "outputId": "1a9a7dd3-3be7-4618-eb5b-d3feef9c7918"
      },
      "execution_count": 34,
      "outputs": [
        {
          "output_type": "stream",
          "name": "stdout",
          "text": [
            "{1, 2, 3, 4, 5}\n",
            "{3}\n",
            "{1, 2}\n"
          ]
        }
      ]
    },
    {
      "cell_type": "markdown",
      "source": [
        "## Dictonary"
      ],
      "metadata": {
        "id": "ywJVKsETGUAJ"
      }
    },
    {
      "cell_type": "code",
      "source": [
        "# Unordered\n",
        "# collection of key value pairs\n",
        "# No duplicates\n",
        "# {}"
      ],
      "metadata": {
        "id": "hKE9PTPeGGnQ"
      },
      "execution_count": null,
      "outputs": []
    },
    {
      "cell_type": "code",
      "source": [
        "dict = {'name':'Joy', 'age': 22, 'place':\"Sri Lanka\"}\n",
        "print(dict)\n",
        "\n",
        "# Update\n",
        "dict.update({'mark':100})\n",
        "print(dict)\n",
        "\n",
        "name1 = dict['name']\n",
        "print(name1)"
      ],
      "metadata": {
        "colab": {
          "base_uri": "https://localhost:8080/"
        },
        "id": "KlaLqS2AGrtt",
        "outputId": "f9f973dd-45f8-4f1e-ea34-2bc6a2b3ba5f"
      },
      "execution_count": 37,
      "outputs": [
        {
          "output_type": "stream",
          "name": "stdout",
          "text": [
            "{'name': 'Joy', 'age': 22, 'place': 'Sri Lanka'}\n",
            "{'name': 'Joy', 'age': 22, 'place': 'Sri Lanka', 'mark': 100}\n",
            "Joy\n"
          ]
        }
      ]
    },
    {
      "cell_type": "markdown",
      "source": [
        "## Loops"
      ],
      "metadata": {
        "id": "VZjBBP11HzKd"
      }
    },
    {
      "cell_type": "code",
      "source": [
        "# 01. for loop\n",
        "# 02. if else\n",
        "# 03. while loop"
      ],
      "metadata": {
        "id": "aF163vULG66R"
      },
      "execution_count": null,
      "outputs": []
    },
    {
      "cell_type": "code",
      "source": [
        "car = ['supra','bmw','audi','lambo']\n",
        "\n",
        "for i in car:\n",
        "  print(i)"
      ],
      "metadata": {
        "colab": {
          "base_uri": "https://localhost:8080/"
        },
        "id": "IzKe4qI5H-x9",
        "outputId": "584438fa-aeef-49b7-93a9-ef786791670a"
      },
      "execution_count": 43,
      "outputs": [
        {
          "output_type": "stream",
          "name": "stdout",
          "text": [
            "supra\n",
            "bmw\n",
            "audi\n",
            "lambo\n"
          ]
        }
      ]
    },
    {
      "cell_type": "code",
      "source": [
        "# Break Statement\n",
        "car = ['supra','bmw','audi','lambo']\n",
        "\n",
        "for i in car:\n",
        "  print(i)\n",
        "  if i == 'audi':\n",
        "    break"
      ],
      "metadata": {
        "colab": {
          "base_uri": "https://localhost:8080/"
        },
        "id": "qAk9Y-PuIKft",
        "outputId": "21ddd7b4-9f55-4c88-ceee-b63bdb0e5368"
      },
      "execution_count": 48,
      "outputs": [
        {
          "output_type": "stream",
          "name": "stdout",
          "text": [
            "supra\n",
            "bmw\n",
            "audi\n"
          ]
        }
      ]
    },
    {
      "cell_type": "code",
      "source": [
        "# Continue Statement\n",
        "car = ['supra','bmw','audi','lambo']\n",
        "\n",
        "for i in car:\n",
        "  if i == 'audi':\n",
        "    continue\n",
        "  print(i)"
      ],
      "metadata": {
        "colab": {
          "base_uri": "https://localhost:8080/"
        },
        "id": "9FT50BXRIYHg",
        "outputId": "6d3b25ca-a95a-41cf-9b3f-5ec4ac1c9ed1"
      },
      "execution_count": 49,
      "outputs": [
        {
          "output_type": "stream",
          "name": "stdout",
          "text": [
            "supra\n",
            "bmw\n",
            "lambo\n"
          ]
        }
      ]
    },
    {
      "cell_type": "markdown",
      "source": [
        "## Functions"
      ],
      "metadata": {
        "id": "6amioRYjJDnL"
      }
    },
    {
      "cell_type": "code",
      "source": [
        "# Collection of statements\n",
        "# \"def\" keyword\n",
        "# with no arguements and no return"
      ],
      "metadata": {
        "id": "RLumkQ0AIw3j"
      },
      "execution_count": null,
      "outputs": []
    },
    {
      "cell_type": "code",
      "source": [
        "def add():\n",
        "  a = 10\n",
        "  b = 20\n",
        "  sum = a + b\n",
        "  print(sum)\n",
        "\n",
        "add()"
      ],
      "metadata": {
        "colab": {
          "base_uri": "https://localhost:8080/"
        },
        "id": "kGhpKgrYJPYv",
        "outputId": "9e5b4ad1-9ea9-45d1-c5a9-cddb0a12b321"
      },
      "execution_count": 50,
      "outputs": [
        {
          "output_type": "stream",
          "name": "stdout",
          "text": [
            "30\n"
          ]
        }
      ]
    },
    {
      "cell_type": "code",
      "source": [
        "# No arguement and with return\n",
        "def multify():\n",
        "  a = 10\n",
        "  b = 20\n",
        "  multi = a * b\n",
        "  return multi\n",
        "\n",
        "print(multify())"
      ],
      "metadata": {
        "colab": {
          "base_uri": "https://localhost:8080/"
        },
        "id": "Mi_900GAJalv",
        "outputId": "99fd4103-b58e-439e-8677-a0642fc7ac25"
      },
      "execution_count": 54,
      "outputs": [
        {
          "output_type": "stream",
          "name": "stdout",
          "text": [
            "200\n"
          ]
        }
      ]
    },
    {
      "cell_type": "code",
      "source": [
        "# with arguement and no return\n",
        "def multify(a,b):\n",
        "  multi = a * b\n",
        "  print(multi)\n",
        "\n",
        "multify(10,20)"
      ],
      "metadata": {
        "colab": {
          "base_uri": "https://localhost:8080/"
        },
        "id": "I5EgYnpMJ7fV",
        "outputId": "6b581003-8c10-44d9-ab70-511ca998c7bb"
      },
      "execution_count": 55,
      "outputs": [
        {
          "output_type": "stream",
          "name": "stdout",
          "text": [
            "200\n"
          ]
        }
      ]
    },
    {
      "cell_type": "code",
      "source": [
        "# with arguement and with return\n",
        "def add(a,b):\n",
        "  sum = a + b\n",
        "  return sum\n",
        "\n",
        "print(sum)\n",
        "add(10,20)"
      ],
      "metadata": {
        "colab": {
          "base_uri": "https://localhost:8080/"
        },
        "id": "zV_pD5RoKjlm",
        "outputId": "22602fe6-c599-49d5-a44f-ecd9792056fd"
      },
      "execution_count": 59,
      "outputs": [
        {
          "output_type": "stream",
          "name": "stdout",
          "text": [
            "<built-in function sum>\n"
          ]
        },
        {
          "output_type": "execute_result",
          "data": {
            "text/plain": [
              "30"
            ]
          },
          "metadata": {},
          "execution_count": 59
        }
      ]
    },
    {
      "cell_type": "code",
      "source": [],
      "metadata": {
        "id": "sjbkolD8LDD7"
      },
      "execution_count": null,
      "outputs": []
    }
  ]
}